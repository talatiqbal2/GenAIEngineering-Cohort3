{
  "nbformat": 4,
  "nbformat_minor": 0,
  "metadata": {
    "colab": {
      "provenance": [],
      "include_colab_link": true
    },
    "kernelspec": {
      "name": "python3",
      "display_name": "Python 3"
    },
    "language_info": {
      "name": "python"
    }
  },
  "cells": [
    {
      "cell_type": "markdown",
      "metadata": {
        "id": "view-in-github",
        "colab_type": "text"
      },
      "source": [
        "<a href=\"https://colab.research.google.com/github/talatiqbal2/GenAIEngineering-Cohort3/blob/main/Copy_of_open_router.ipynb\" target=\"_parent\"><img src=\"https://colab.research.google.com/assets/colab-badge.svg\" alt=\"Open In Colab\"/></a>"
      ]
    },
    {
      "cell_type": "code",
      "source": [
        "pip install openai"
      ],
      "metadata": {
        "colab": {
          "base_uri": "https://localhost:8080/"
        },
        "id": "VHNfqtrBQ8xn",
        "outputId": "9090cef1-9e47-4c40-b6dd-1d793d040436"
      },
      "execution_count": null,
      "outputs": [
        {
          "output_type": "stream",
          "name": "stdout",
          "text": [
            "Requirement already satisfied: openai in /usr/local/lib/python3.12/dist-packages (1.108.0)\n",
            "Requirement already satisfied: anyio<5,>=3.5.0 in /usr/local/lib/python3.12/dist-packages (from openai) (4.10.0)\n",
            "Requirement already satisfied: distro<2,>=1.7.0 in /usr/local/lib/python3.12/dist-packages (from openai) (1.9.0)\n",
            "Requirement already satisfied: httpx<1,>=0.23.0 in /usr/local/lib/python3.12/dist-packages (from openai) (0.28.1)\n",
            "Requirement already satisfied: jiter<1,>=0.4.0 in /usr/local/lib/python3.12/dist-packages (from openai) (0.11.0)\n",
            "Requirement already satisfied: pydantic<3,>=1.9.0 in /usr/local/lib/python3.12/dist-packages (from openai) (2.11.9)\n",
            "Requirement already satisfied: sniffio in /usr/local/lib/python3.12/dist-packages (from openai) (1.3.1)\n",
            "Requirement already satisfied: tqdm>4 in /usr/local/lib/python3.12/dist-packages (from openai) (4.67.1)\n",
            "Requirement already satisfied: typing-extensions<5,>=4.11 in /usr/local/lib/python3.12/dist-packages (from openai) (4.15.0)\n",
            "Requirement already satisfied: idna>=2.8 in /usr/local/lib/python3.12/dist-packages (from anyio<5,>=3.5.0->openai) (3.10)\n",
            "Requirement already satisfied: certifi in /usr/local/lib/python3.12/dist-packages (from httpx<1,>=0.23.0->openai) (2025.8.3)\n",
            "Requirement already satisfied: httpcore==1.* in /usr/local/lib/python3.12/dist-packages (from httpx<1,>=0.23.0->openai) (1.0.9)\n",
            "Requirement already satisfied: h11>=0.16 in /usr/local/lib/python3.12/dist-packages (from httpcore==1.*->httpx<1,>=0.23.0->openai) (0.16.0)\n",
            "Requirement already satisfied: annotated-types>=0.6.0 in /usr/local/lib/python3.12/dist-packages (from pydantic<3,>=1.9.0->openai) (0.7.0)\n",
            "Requirement already satisfied: pydantic-core==2.33.2 in /usr/local/lib/python3.12/dist-packages (from pydantic<3,>=1.9.0->openai) (2.33.2)\n",
            "Requirement already satisfied: typing-inspection>=0.4.0 in /usr/local/lib/python3.12/dist-packages (from pydantic<3,>=1.9.0->openai) (0.4.1)\n"
          ]
        }
      ]
    },
    {
      "cell_type": "markdown",
      "source": [
        "### Using the OpenAI SDK with an OpenRouter key"
      ],
      "metadata": {
        "id": "Mc-Ao8yPRJKD"
      }
    },
    {
      "cell_type": "code",
      "execution_count": null,
      "metadata": {
        "colab": {
          "base_uri": "https://localhost:8080/"
        },
        "id": "hjFSJmphQkUY",
        "outputId": "5c7b6652-fc21-4d34-f40c-99c8c9992ad4"
      },
      "outputs": [
        {
          "output_type": "stream",
          "name": "stdout",
          "text": [
            "The meaning of life is a philosophical question that has been pondered for centuries, and different cultures, religions, philosophies, and individuals have proposed diverse answers. For some, the meaning of life is tied to religious or spiritual beliefs, such as fulfilling a divine purpose or attaining enlightenment. Others find meaning through personal fulfillment, happiness, and relationships, or by contributing to the betterment of society and the world. Existentialist philosophers suggest that life has no inherent meaning, and it is up to each individual to create their own purpose. Ultimately, the meaning of life is subjective and can vary greatly from person to person.\n"
          ]
        }
      ],
      "source": [
        "from openai import OpenAI\n",
        "\n",
        "client = OpenAI(\n",
        "  base_url=\"https://openrouter.ai/api/v1\",\n",
        "  api_key=\"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\",\n",
        ")\n",
        "\n",
        "completion = client.chat.completions.create(\n",
        "  model=\"openai/gpt-4o\",\n",
        "  messages=[\n",
        "    {\n",
        "      \"role\": \"user\",\n",
        "      \"content\": \"What is the meaning of life?\"\n",
        "    }\n",
        "  ]\n",
        ")\n",
        "\n",
        "print(completion.choices[0].message.content)\n"
      ]
    },
    {
      "cell_type": "markdown",
      "source": [
        "### Temperature and `max_tokens` demonstration"
      ],
      "metadata": {
        "id": "uVCH6T7ISJJO"
      }
    },
    {
      "cell_type": "code",
      "source": [
        "from openai import OpenAI\n",
        "\n",
        "client = OpenAI(\n",
        "  base_url=\"https://openrouter.ai/api/v1\",\n",
        "  api_key=\"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\",\n",
        ")\n",
        "\n",
        "completion = client.chat.completions.create(\n",
        "  model=\"openai/gpt-4o\",\n",
        "  max_tokens=5,\n",
        "  temperature=0,\n",
        "  messages=[\n",
        "    {\n",
        "      \"role\": \"user\",\n",
        "      \"content\": \"What is the meaning of life?\"\n",
        "    }\n",
        "  ]\n",
        ")\n",
        "\n",
        "print(completion.choices[0].message.content)\n"
      ],
      "metadata": {
        "colab": {
          "base_uri": "https://localhost:8080/"
        },
        "id": "pduQipe2R0Nc",
        "outputId": "f77e9e5a-a58e-4100-ee2d-308e1d657a71"
      },
      "execution_count": null,
      "outputs": [
        {
          "output_type": "stream",
          "name": "stdout",
          "text": [
            "The meaning of life is\n"
          ]
        }
      ]
    },
    {
      "cell_type": "code",
      "source": [
        "from openai import OpenAI\n",
        "\n",
        "client = OpenAI(\n",
        "  base_url=\"https://openrouter.ai/api/v1\",\n",
        "  api_key=\"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\",\n",
        ")\n",
        "\n",
        "completion = client.chat.completions.create(\n",
        "  model=\"openai/gpt-4o\",\n",
        "  max_tokens=50,\n",
        "  temperature=1,\n",
        "  messages=[\n",
        "    {\n",
        "      \"role\": \"user\",\n",
        "      \"content\": \"What is the meaning of life?\"\n",
        "    }\n",
        "  ]\n",
        ")\n",
        "\n",
        "print(completion.choices[0].message.content)\n"
      ],
      "metadata": {
        "colab": {
          "base_uri": "https://localhost:8080/"
        },
        "id": "nyzxQZMcR8Ts",
        "outputId": "0fc76be7-4365-4240-acb1-831018802be2"
      },
      "execution_count": null,
      "outputs": [
        {
          "output_type": "stream",
          "name": "stdout",
          "text": [
            "The meaning of life is a question that has intrigued humans for centuries and has numerous interpretations depending on philosophical, religious, and personal perspectives. Some people find meaning through religion and spirituality, believing life’s purpose is to serve a divine will or to attain spiritual\n"
          ]
        }
      ]
    },
    {
      "cell_type": "markdown",
      "source": [
        "top_p demonstration"
      ],
      "metadata": {
        "id": "TvqCvr91SXu6"
      }
    },
    {
      "cell_type": "code",
      "source": [
        "from openai import OpenAI\n",
        "\n",
        "client = OpenAI(\n",
        "  base_url=\"https://openrouter.ai/api/v1\",\n",
        "  api_key=\"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\",\n",
        ")\n",
        "\n",
        "completion = client.chat.completions.create(\n",
        "  model=\"openai/gpt-4o\",\n",
        "  max_tokens=50,\n",
        "  temperature=1,\n",
        "  top_p=0.8,\n",
        "  messages=[\n",
        "    {\n",
        "      \"role\": \"user\",\n",
        "      \"content\": \"What is the meaning of life?\"\n",
        "    }\n",
        "  ]\n",
        ")\n",
        "\n",
        "print(completion.choices[0].message.content)\n"
      ],
      "metadata": {
        "colab": {
          "base_uri": "https://localhost:8080/"
        },
        "id": "my7A5ihfSajv",
        "outputId": "5fa1f220-6d20-41b4-f335-b80a2f10fe8c"
      },
      "execution_count": null,
      "outputs": [
        {
          "output_type": "stream",
          "name": "stdout",
          "text": [
            "The meaning of life is a question that has been explored by philosophers, theologians, scientists, and thinkers for centuries, and it can have different interpretations depending on one's beliefs, values, and perspectives. Here are a few ways people have approached this question\n"
          ]
        }
      ]
    },
    {
      "cell_type": "markdown",
      "source": [
        "### Multiple messages"
      ],
      "metadata": {
        "id": "uWUBP1MwRdVI"
      }
    },
    {
      "cell_type": "code",
      "source": [
        "from openai import OpenAI\n",
        "\n",
        "client = OpenAI(\n",
        "  base_url=\"https://openrouter.ai/api/v1\",\n",
        "  api_key=\"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\",\n",
        ")\n",
        "\n",
        "completion = client.chat.completions.create(\n",
        "  model=\"openai/gpt-4o\",\n",
        "  messages=[\n",
        "    {\n",
        "      \"role\": \"user\",\n",
        "      \"content\": \"What is the meaning of life?\"\n",
        "    },\n",
        "    {\n",
        "        \"role\": \"assistant\",\n",
        "        \"content\": \"i can't really answer such a philosophical question\"\n",
        "    },\n",
        "    {\n",
        "      \"role\": \"user\",\n",
        "      \"content\": \"at least try to answer once\"\n",
        "    }\n",
        "  ]\n",
        ")\n",
        "\n",
        "print(completion.choices[0].message.content)\n"
      ],
      "metadata": {
        "colab": {
          "base_uri": "https://localhost:8080/"
        },
        "id": "JVcqs8XJRffa",
        "outputId": "f425548c-ebf4-422c-97e1-777699d092a0"
      },
      "execution_count": null,
      "outputs": [
        {
          "output_type": "stream",
          "name": "stdout",
          "text": [
            "The question \"What is the meaning of life?\" is a deeply philosophical one and has been contemplated by thinkers, theologians, and philosophers for centuries. Different cultures, religions, and individuals offer varied answers based on their beliefs and values.\n",
            "\n",
            "1. **Religious Perspectives**: Many religious traditions propose that the meaning of life is to fulfill the will of a divine entity, achieve spiritual enlightenment, or prepare for an afterlife. For example, in Christianity, life is often seen as a way to serve God's will, whereas in Buddhism, the aim might be to attain Nirvana.\n",
            "\n",
            "2. **Existential Views**: From an existential standpoint, as suggested by philosophers like Jean-Paul Sartre and Albert Camus, life inherently has no meaning, and it is up to each individual to create their own purpose through their actions and choices.\n",
            "\n",
            "3. **Scientific Approach**: Some might argue that from a scientific or biological perspective, the meaning of life is to survive, reproduce, and pass on genes to the next generation.\n",
            "\n",
            "4. **Personal Fulfillment**: Many people find meaning through personal fulfillment, which could include relationships, career achievements, artistic expression, or contributing to community and society.\n",
            "\n",
            "Ultimately, the meaning of life might be subjective, varying from person to person based on individual experiences, beliefs, and aspirations. It might also be a combination of elements from various perspectives.\n"
          ]
        }
      ]
    }
  ]
}